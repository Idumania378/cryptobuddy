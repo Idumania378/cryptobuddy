{
 "cells": [
  {
   "cell_type": "code",
   "execution_count": null,
   "id": "555be1b3",
   "metadata": {
    "vscode": {
     "languageId": "plaintext"
    }
   },
   "outputs": [],
   "source": [
    "from IPython.display import display, Markdown\n",
    "import ipywidgets as widgets\n",
    "import matplotlib.pyplot as plt\n",
    "\n",
    "# 🤖 Welcome Message\n",
    "display(Markdown(\"## 👋 Hey there! I’m *CryptoBuddy* – your friendly AI crypto sidekick!\"))\n",
    "display(Markdown(\"### You can:\"))\n",
    "display(Markdown(\"- Click buttons for common questions\\n- Choose a coin to view its stats\\n- Type your own question\"))\n",
    "\n",
    "# 💰 Crypto Database\n",
    "crypto_db = {\n",
    "    \"Bitcoin\": {\n",
    "        \"price_trend\": \"rising\",\n",
    "        \"market_cap\": \"high\",\n",
    "        \"energy_use\": \"high\",\n",
    "        \"sustainability_score\": 3\n",
    "    },\n",
    "    \"Ethereum\": {\n",
    "        \"price_trend\": \"stable\",\n",
    "        \"market_cap\": \"high\",\n",
    "        \"energy_use\": \"medium\",\n",
    "        \"sustainability_score\": 6\n",
    "    },\n",
    "    \"Cardano\": {\n",
    "        \"price_trend\": \"rising\",\n",
    "        \"market_cap\": \"medium\",\n",
    "        \"energy_use\": \"low\",\n",
    "        \"sustainability_score\": 8\n",
    "    },\n",
    "    \"Solana\": {\n",
    "        \"price_trend\": \"rising\",\n",
    "        \"market_cap\": \"medium\",\n",
    "        \"energy_use\": \"low\",\n",
    "        \"sustainability_score\": 7\n",
    "    },\n",
    "    \"Dogecoin\": {\n",
    "        \"price_trend\": \"falling\",\n",
    "        \"market_cap\": \"low\",\n",
    "        \"energy_use\": \"medium\",\n",
    "        \"sustainability_score\": 4\n",
    "    }\n",
    "}"
   ]
  }
 ],
 "metadata": {
  "language_info": {
   "name": "python"
  }
 },
 "nbformat": 4,
 "nbformat_minor": 5
}
