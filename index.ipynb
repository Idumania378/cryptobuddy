{
 "cells": [
  {
   "cell_type": "code",
   "execution_count": null,
   "id": "555be1b3",
   "metadata": {
    "vscode": {
     "languageId": "plaintext"
    }
   },
   "outputs": [],
   "source": [
    "from IPython.display import display, Markdown\n",
    "import ipywidgets as widgets\n",
    "import matplotlib.pyplot as plt\n"
   ]
  },
  {
   "cell_type": "code",
   "execution_count": null,
   "id": "dfa086bf",
   "metadata": {
    "vscode": {
     "languageId": "plaintext"
    }
   },
   "outputs": [],
   "source": [
    "# 🤖 Welcome Message\n",
    "display(Markdown(\"## 👋 Hey there! I’m *CryptoBuddy* – your friendly AI crypto sidekick!\"))\n",
    "display(Markdown(\"### You can:\"))\n",
    "display(Markdown(\"- Click buttons for common questions\\n- Choose a coin to view its stats\\n- Type your own question\"))\n"
   ]
  },
  {
   "cell_type": "code",
   "execution_count": null,
   "id": "3843a3ec",
   "metadata": {
    "vscode": {
     "languageId": "plaintext"
    }
   },
   "outputs": [],
   "source": [
    "# 💰 Crypto Database\n",
    "crypto_db = {\n",
    "    \"Bitcoin\": {\n",
    "        \"price_trend\": \"rising\",\n",
    "        \"market_cap\": \"high\",\n",
    "        \"energy_use\": \"high\",\n",
    "        \"sustainability_score\": 3\n",
    "    },\n",
    "    \"Ethereum\": {\n",
    "        \"price_trend\": \"stable\",\n",
    "        \"market_cap\": \"high\",\n",
    "        \"energy_use\": \"medium\",\n",
    "        \"sustainability_score\": 6\n",
    "    },\n",
    "    \"Cardano\": {\n",
    "        \"price_trend\": \"rising\",\n",
    "        \"market_cap\": \"medium\",\n",
    "        \"energy_use\": \"low\",\n",
    "        \"sustainability_score\": 8\n",
    "    },\n",
    "    \"Solana\": {\n",
    "        \"price_trend\": \"rising\",\n",
    "        \"market_cap\": \"medium\",\n",
    "        \"energy_use\": \"low\",\n",
    "        \"sustainability_score\": 7\n",
    "    },\n",
    "    \"Dogecoin\": {\n",
    "        \"price_trend\": \"falling\",\n",
    "        \"market_cap\": \"low\",\n",
    "        \"energy_use\": \"medium\",\n",
    "        \"sustainability_score\": 4\n",
    "    }\n",
    "}"
   ]
  },
  {
   "cell_type": "code",
   "execution_count": null,
   "id": "9c27cc68",
   "metadata": {},
   "outputs": [],
   "source": [
    "# Bot Logic\n",
    "def get_response(user_query):\n",
    "    query = user_query.lower().strip()\n",
    "\n",
    "    if not query:\n",
    "        return None\n",
    "\n",
    "    if query in ['exit', 'quit']:\n",
    "        return \"👋 Bye! Remember, crypto is risky—do your own research! 🚨\"\n",
    "\n",
    "    if \"sustainable\" in query:\n",
    "        best = max(crypto_db, key=lambda x: crypto_db[x][\"sustainability_score\"])\n",
    "        return f\"🌱 *{best}* is the most eco-friendly choice!\"\n",
    "\n",
    "    elif \"trending\" in query or \"rising\" in query:\n",
    "        rising = [name for name, data in crypto_db.items() if data[\"price_trend\"] == \"rising\"]\n",
    "        return f\"📈 Trending up: *{', '.join(rising)}*.\"\n",
    "\n",
    "    elif \"long-term\" in query or \"growth\" in query:\n",
    "        good_choices = [name for name, data in crypto_db.items() if data[\"price_trend\"] == \"rising\" and data[\"sustainability_score\"] >= 7]\n",
    "        return f\"🚀 Best for long-term: *{', '.join(good_choices)}*.\" if good_choices else \" No strong long-term growth coins right now.\"\n",
    "\n",
    "    elif \"profitable\" in query or \"best investment\" in query:\n",
    "        candidates = [name for name, data in crypto_db.items() if data[\"price_trend\"] == \"rising\" and data[\"market_cap\"] == \"high\"]\n",
    "        return f\"💰 High potential: *{', '.join(candidates)}*.\" if candidates else \"📉 No profitable picks today.\"\n",
    "\n",
    "    return \" I didn’t get that. Try: sustainable, trending, long-term, or profitable.\""
   ]
  },
  {
   "cell_type": "code",
   "execution_count": null,
   "id": "01dc243c",
   "metadata": {},
   "outputs": [],
   "source": [
    "# 📊 Chart Helpers\n",
    "def convert_to_score(attribute, value):\n",
    "    scale = {\n",
    "        'market_cap': {'low': 3, 'medium': 6, 'high': 9},\n",
    "        'price_trend': {'falling': 3, 'stable': 6, 'rising': 9},\n",
    "        'energy_use': {'high': 3, 'medium': 6, 'low': 9}\n",
    "    }\n",
    "    return scale.get(attribute, {}).get(value, 0)\n",
    "\n",
    "def plot_comparison(metric_type):\n",
    "    output_area.clear_output()\n",
    "    \n",
    "    with output_area:\n",
    "        coins = list(crypto_db.keys())\n",
    "\n",
    "        if metric_type == 'sustainability':\n",
    "            scores = [crypto_db[coin]['sustainability_score'] for coin in coins]\n",
    "            title = \"🌿 Sustainability Score\"\n",
    "            ylabel = \"Score (0-10)\"\n",
    "            colors = ['green' if s >= 7 else 'orange' if s >= 5 else 'red' for s in scores]\n",
    "\n",
    "        elif metric_type == 'profitability':\n",
    "            scores = [convert_to_score('market_cap', crypto_db[coin]['market_cap']) +\n",
    "                      convert_to_score('price_trend', crypto_db[coin]['price_trend']) for coin in coins]\n",
    "            title = \"💰 Estimated Profitability\"\n",
    "            ylabel = \"Score (max 18)\"\n",
    "            colors = ['gold' if s >= 15 else 'orange' if s >= 10 else 'gray' for s in scores]\n",
    "\n",
    "        elif metric_type == 'long_term':\n",
    "            scores = [convert_to_score('price_trend', crypto_db[coin]['price_trend']) +\n",
    "                      crypto_db[coin]['sustainability_score'] for coin in coins]\n",
    "            title = \"📈 Long-Term Growth Potential\"\n",
    "            ylabel = \"Score (max 19)\"\n",
    "            colors = ['blue' if s >= 15 else 'purple' if s >= 10 else 'gray' for s in scores]\n",
    "\n",
    "        elif metric_type == 'trending':\n",
    "            scores = [convert_to_score('price_trend', crypto_db[coin]['price_trend']) for coin in coins]\n",
    "            title = \"🔥 Price Trend Score\"\n",
    "            ylabel = \"Score (0-10)\"\n",
    "            colors = ['red' if s >= 7 else 'orange' if s >= 5 else 'gray' for s in scores]\n",
    "\n",
    "        else:\n",
    "            display(Markdown(\"❓ I can't create a chart for that input.\"))\n",
    "            return\n",
    "\n",
    "        plt.figure(figsize=(8, 4))\n",
    "        bars = plt.bar(coins, scores, color=colors)\n",
    "        plt.ylim(0, max(scores) + 2)\n",
    "        plt.title(title)\n",
    "        plt.ylabel(ylabel)\n",
    "        plt.grid(axis='y', linestyle='--', alpha=0.4)\n",
    "\n",
    "        for bar, score in zip(bars, scores):\n",
    "            yval = bar.get_height()\n",
    "            plt.text(bar.get_x() + bar.get_width()/2.0, yval + 0.2, f'{score}', ha='center', va='bottom')\n",
    "\n",
    "        plt.tight_layout()\n",
    "        plt.show()\n",
    "        display(Markdown(f\"**CryptoBuddy:** Here's how the coins compare on **{metric_type.replace('_', ' ')}**.\"))\n",
    "        "
   ]
  },
  {
   "cell_type": "code",
   "execution_count": null,
   "id": "27776bd7",
   "metadata": {
    "vscode": {
     "languageId": "plaintext"
    }
   },
   "outputs": [],
   "source": [
    "# 🔘 Common Questions Buttons\n",
    "button_questions = {\n",
    "\"🌱 Most Sustainable Coin\": \"sustainability\",\n",
    "\"📈 Trending Coins\": \"trending\",\n",
    "\"🚀 Best for Long-Term\": \"long_term\",\n",
    "\"💰 Most Profitable Now\": \"profitability\"\n",
    "}\n",
    "\n",
    "button_widgets = []\n",
    "for label, query_key in button_questions.items():\n",
    "btn = widgets.Button(description=label, layout=widgets.Layout(width='auto'))\n",
    "def on_click_handler(b, key=query_key):\n",
    "output_area.clear_output()\n",
    "response = get_response(key)\n",
    "with output_area:\n",
    "display(Markdown(f\"**CryptoBuddy:** {response}\"))\n",
    "plot_comparison(key)\n",
    "btn.on_click(on_click_handler)\n",
    "button_widgets.append(btn)\n",
    "\n",
    "buttons_box = widgets.HBox(button_widgets)\n",
    "\n",
    "# 📦 Dropdown for Coin Details\n",
    "coin_dropdown = widgets.Dropdown(\n",
    "options=list(crypto_db.keys()),\n",
    "description='🔍 Coin:',\n",
    "layout=widgets.Layout(width='50%')\n",
    ")\n",
    "\n",
    "def show_coin_info(change):\n",
    "coin = change['new']\n",
    "if coin:\n",
    "data = crypto_db[coin]\n",
    "with output_area:\n",
    "output_area.clear_output()\n",
    "display(Markdown(f\"\"\"\n",
    "**{coin} Info:**\n",
    "- 📈 Price Trend: `{data['price_trend']}`\n",
    "- 💰 Market Cap: `{data['market_cap']}`\n",
    "- ⚡ Energy Use: `{data['energy_use']}`\n",
    "- 🌍 Sustainability Score: `{data['sustainability_score']}/10`\n",
    "\"\"\"))\n",
    "\n",
    "coin_dropdown.observe(show_coin_info, names='value')\n"
   ]
  }
 ],
 "metadata": {
  "language_info": {
   "name": "python"
  }
 },
 "nbformat": 4,
 "nbformat_minor": 5
}

